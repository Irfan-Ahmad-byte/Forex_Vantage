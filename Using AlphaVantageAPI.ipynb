{
 "cells": [
  {
   "cell_type": "markdown",
   "id": "compliant-policy",
   "metadata": {},
   "source": [
    "# Using Alpha Vantage API to Analyse Financial Data\n",
    "In this section I will use Alpha Vantage API to analyze forex data. Let's first import some required libraries. To use any API we are generally required to pass an API key with the search parameters. So, for AlphaVantageAPI we can get one from https://www.alphavantage.co/. In this approach I'll rather use a library by RomellTorres to explore the AlphaVantageAPI, and not the API site.\n",
    "Let's begin."
   ]
  },
  {
   "cell_type": "code",
   "execution_count": 160,
   "id": "elegant-rubber",
   "metadata": {},
   "outputs": [],
   "source": [
    "import pandas as pd        #for dataframe visualization\n",
    "from alpha_vantage.foreignexchange import ForeignExchange as FX    #library to use AlphaVantageAPI without link requests"
   ]
  },
  {
   "cell_type": "markdown",
   "id": "norman-speaking",
   "metadata": {},
   "source": [
    "* The alpha_vantage Library is the library I'm going to use to interact with Alpha Vantage API. Full documentation is available at https://github.com/RomelTorres/alpha_vantage. "
   ]
  },
  {
   "cell_type": "code",
   "execution_count": 161,
   "id": "obvious-banana",
   "metadata": {},
   "outputs": [],
   "source": [
    "APIkey = 'ABC'"
   ]
  },
  {
   "cell_type": "markdown",
   "id": "sharing-andrew",
   "metadata": {},
   "source": [
    "* We'll replace 'ABC' with our API key"
   ]
  },
  {
   "cell_type": "code",
   "execution_count": 165,
   "id": "valid-relief",
   "metadata": {},
   "outputs": [],
   "source": [
    "fx = FX(key=\"APIkey\")   # defining the forex instance"
   ]
  },
  {
   "cell_type": "code",
   "execution_count": 166,
   "id": "signal-milwaukee",
   "metadata": {},
   "outputs": [],
   "source": [
    "pd.set_option(\"display.max_rows\", 500)    # optional, to display all the rows of the dataframe"
   ]
  },
  {
   "cell_type": "code",
   "execution_count": 168,
   "id": "published-wagner",
   "metadata": {},
   "outputs": [],
   "source": [
    "data = fx.get_currency_exchange_intraday(from_symbol='EUR', to_symbol='USD', interval='60min', outputsize='full')"
   ]
  },
  {
   "cell_type": "markdown",
   "id": "stunning-aurora",
   "metadata": {},
   "source": [
    "* In the just above cell I passed the parameters to get the intraday data of EURUSD currency pair, and the time interval is set to 1h."
   ]
  },
  {
   "cell_type": "code",
   "execution_count": 171,
   "id": "capital-truck",
   "metadata": {},
   "outputs": [
    {
     "data": {
      "text/plain": [
       "tuple"
      ]
     },
     "execution_count": 171,
     "metadata": {},
     "output_type": "execute_result"
    }
   ],
   "source": [
    "type(data)"
   ]
  },
  {
   "cell_type": "markdown",
   "id": "analyzed-flooring",
   "metadata": {},
   "source": [
    "* The data retreived is a tuple. Let's convert it to a datframe for our future operations."
   ]
  },
  {
   "cell_type": "code",
   "execution_count": 175,
   "id": "regulated-catch",
   "metadata": {
    "scrolled": true,
    "tags": []
   },
   "outputs": [],
   "source": [
    "df = pd.DataFrame(data)"
   ]
  },
  {
   "cell_type": "code",
   "execution_count": 176,
   "id": "wired-landing",
   "metadata": {},
   "outputs": [
    {
     "data": {
      "text/html": [
       "<div>\n",
       "<style scoped>\n",
       "    .dataframe tbody tr th:only-of-type {\n",
       "        vertical-align: middle;\n",
       "    }\n",
       "\n",
       "    .dataframe tbody tr th {\n",
       "        vertical-align: top;\n",
       "    }\n",
       "\n",
       "    .dataframe thead th {\n",
       "        text-align: right;\n",
       "    }\n",
       "</style>\n",
       "<table border=\"1\" class=\"dataframe\">\n",
       "  <thead>\n",
       "    <tr style=\"text-align: right;\">\n",
       "      <th></th>\n",
       "      <th>2021-02-25 11:00:00</th>\n",
       "      <th>2021-02-25 10:00:00</th>\n",
       "      <th>2021-02-25 09:00:00</th>\n",
       "      <th>2021-02-25 08:00:00</th>\n",
       "      <th>2021-02-25 07:00:00</th>\n",
       "      <th>2021-02-25 06:00:00</th>\n",
       "      <th>2021-02-25 05:00:00</th>\n",
       "      <th>2021-02-25 04:00:00</th>\n",
       "      <th>2021-02-25 03:00:00</th>\n",
       "      <th>2021-02-25 02:00:00</th>\n",
       "      <th>...</th>\n",
       "      <th>2020-12-31 05:00:00</th>\n",
       "      <th>2020-12-31 04:00:00</th>\n",
       "      <th>2020-12-31 03:00:00</th>\n",
       "      <th>1. Information</th>\n",
       "      <th>2. From Symbol</th>\n",
       "      <th>3. To Symbol</th>\n",
       "      <th>4. Last Refreshed</th>\n",
       "      <th>5. Interval</th>\n",
       "      <th>6. Output Size</th>\n",
       "      <th>7. Time Zone</th>\n",
       "    </tr>\n",
       "  </thead>\n",
       "  <tbody>\n",
       "    <tr>\n",
       "      <th>0</th>\n",
       "      <td>{'1. open': '1.2220', '2. high': '1.2231', '3....</td>\n",
       "      <td>{'1. open': '1.2208', '2. high': '1.2223', '3....</td>\n",
       "      <td>{'1. open': '1.2187', '2. high': '1.2208', '3....</td>\n",
       "      <td>{'1. open': '1.2181', '2. high': '1.2189', '3....</td>\n",
       "      <td>{'1. open': '1.2178', '2. high': '1.2182', '3....</td>\n",
       "      <td>{'1. open': '1.2176', '2. high': '1.2183', '3....</td>\n",
       "      <td>{'1. open': '1.2169', '2. high': '1.2177', '3....</td>\n",
       "      <td>{'1. open': '1.2159', '2. high': '1.2170', '3....</td>\n",
       "      <td>{'1. open': '1.2157', '2. high': '1.2163', '3....</td>\n",
       "      <td>{'1. open': '1.2162', '2. high': '1.2165', '3....</td>\n",
       "      <td>...</td>\n",
       "      <td>{'1. open': '1.2291', '2. high': '1.2291', '3....</td>\n",
       "      <td>{'1. open': '1.2289', '2. high': '1.2294', '3....</td>\n",
       "      <td>{'1. open': '1.2306', '2. high': '1.2309', '3....</td>\n",
       "      <td>NaN</td>\n",
       "      <td>NaN</td>\n",
       "      <td>NaN</td>\n",
       "      <td>NaN</td>\n",
       "      <td>NaN</td>\n",
       "      <td>NaN</td>\n",
       "      <td>NaN</td>\n",
       "    </tr>\n",
       "    <tr>\n",
       "      <th>1</th>\n",
       "      <td>NaN</td>\n",
       "      <td>NaN</td>\n",
       "      <td>NaN</td>\n",
       "      <td>NaN</td>\n",
       "      <td>NaN</td>\n",
       "      <td>NaN</td>\n",
       "      <td>NaN</td>\n",
       "      <td>NaN</td>\n",
       "      <td>NaN</td>\n",
       "      <td>NaN</td>\n",
       "      <td>...</td>\n",
       "      <td>NaN</td>\n",
       "      <td>NaN</td>\n",
       "      <td>NaN</td>\n",
       "      <td>FX Intraday (60min) Time Series</td>\n",
       "      <td>EUR</td>\n",
       "      <td>USD</td>\n",
       "      <td>2021-02-25 11:00:00</td>\n",
       "      <td>60min</td>\n",
       "      <td>Full size</td>\n",
       "      <td>UTC</td>\n",
       "    </tr>\n",
       "  </tbody>\n",
       "</table>\n",
       "<p>2 rows × 968 columns</p>\n",
       "</div>"
      ],
      "text/plain": [
       "                                 2021-02-25 11:00:00  \\\n",
       "0  {'1. open': '1.2220', '2. high': '1.2231', '3....   \n",
       "1                                                NaN   \n",
       "\n",
       "                                 2021-02-25 10:00:00  \\\n",
       "0  {'1. open': '1.2208', '2. high': '1.2223', '3....   \n",
       "1                                                NaN   \n",
       "\n",
       "                                 2021-02-25 09:00:00  \\\n",
       "0  {'1. open': '1.2187', '2. high': '1.2208', '3....   \n",
       "1                                                NaN   \n",
       "\n",
       "                                 2021-02-25 08:00:00  \\\n",
       "0  {'1. open': '1.2181', '2. high': '1.2189', '3....   \n",
       "1                                                NaN   \n",
       "\n",
       "                                 2021-02-25 07:00:00  \\\n",
       "0  {'1. open': '1.2178', '2. high': '1.2182', '3....   \n",
       "1                                                NaN   \n",
       "\n",
       "                                 2021-02-25 06:00:00  \\\n",
       "0  {'1. open': '1.2176', '2. high': '1.2183', '3....   \n",
       "1                                                NaN   \n",
       "\n",
       "                                 2021-02-25 05:00:00  \\\n",
       "0  {'1. open': '1.2169', '2. high': '1.2177', '3....   \n",
       "1                                                NaN   \n",
       "\n",
       "                                 2021-02-25 04:00:00  \\\n",
       "0  {'1. open': '1.2159', '2. high': '1.2170', '3....   \n",
       "1                                                NaN   \n",
       "\n",
       "                                 2021-02-25 03:00:00  \\\n",
       "0  {'1. open': '1.2157', '2. high': '1.2163', '3....   \n",
       "1                                                NaN   \n",
       "\n",
       "                                 2021-02-25 02:00:00  ...  \\\n",
       "0  {'1. open': '1.2162', '2. high': '1.2165', '3....  ...   \n",
       "1                                                NaN  ...   \n",
       "\n",
       "                                 2020-12-31 05:00:00  \\\n",
       "0  {'1. open': '1.2291', '2. high': '1.2291', '3....   \n",
       "1                                                NaN   \n",
       "\n",
       "                                 2020-12-31 04:00:00  \\\n",
       "0  {'1. open': '1.2289', '2. high': '1.2294', '3....   \n",
       "1                                                NaN   \n",
       "\n",
       "                                 2020-12-31 03:00:00  \\\n",
       "0  {'1. open': '1.2306', '2. high': '1.2309', '3....   \n",
       "1                                                NaN   \n",
       "\n",
       "                    1. Information 2. From Symbol 3. To Symbol  \\\n",
       "0                              NaN            NaN          NaN   \n",
       "1  FX Intraday (60min) Time Series            EUR          USD   \n",
       "\n",
       "     4. Last Refreshed 5. Interval 6. Output Size 7. Time Zone  \n",
       "0                  NaN         NaN            NaN          NaN  \n",
       "1  2021-02-25 11:00:00       60min      Full size          UTC  \n",
       "\n",
       "[2 rows x 968 columns]"
      ]
     },
     "execution_count": 176,
     "metadata": {},
     "output_type": "execute_result"
    }
   ],
   "source": [
    "df"
   ]
  },
  {
   "cell_type": "markdown",
   "id": "facial-customs",
   "metadata": {},
   "source": [
    "So, just above is the output. And, it's quite confusing. Last 7 columns comprise different information. Let's separate them to have a clear idea of the information in these columns."
   ]
  },
  {
   "cell_type": "code",
   "execution_count": 177,
   "id": "weird-hypothetical",
   "metadata": {
    "scrolled": true,
    "tags": []
   },
   "outputs": [
    {
     "data": {
      "text/html": [
       "<div>\n",
       "<style scoped>\n",
       "    .dataframe tbody tr th:only-of-type {\n",
       "        vertical-align: middle;\n",
       "    }\n",
       "\n",
       "    .dataframe tbody tr th {\n",
       "        vertical-align: top;\n",
       "    }\n",
       "\n",
       "    .dataframe thead th {\n",
       "        text-align: right;\n",
       "    }\n",
       "</style>\n",
       "<table border=\"1\" class=\"dataframe\">\n",
       "  <thead>\n",
       "    <tr style=\"text-align: right;\">\n",
       "      <th></th>\n",
       "      <th>1. Information</th>\n",
       "      <th>2. From Symbol</th>\n",
       "      <th>3. To Symbol</th>\n",
       "      <th>4. Last Refreshed</th>\n",
       "      <th>5. Interval</th>\n",
       "      <th>6. Output Size</th>\n",
       "      <th>7. Time Zone</th>\n",
       "    </tr>\n",
       "  </thead>\n",
       "  <tbody>\n",
       "    <tr>\n",
       "      <th>0</th>\n",
       "      <td>NaN</td>\n",
       "      <td>NaN</td>\n",
       "      <td>NaN</td>\n",
       "      <td>NaN</td>\n",
       "      <td>NaN</td>\n",
       "      <td>NaN</td>\n",
       "      <td>NaN</td>\n",
       "    </tr>\n",
       "    <tr>\n",
       "      <th>1</th>\n",
       "      <td>FX Intraday (60min) Time Series</td>\n",
       "      <td>EUR</td>\n",
       "      <td>USD</td>\n",
       "      <td>2021-02-25 11:00:00</td>\n",
       "      <td>60min</td>\n",
       "      <td>Full size</td>\n",
       "      <td>UTC</td>\n",
       "    </tr>\n",
       "  </tbody>\n",
       "</table>\n",
       "</div>"
      ],
      "text/plain": [
       "                    1. Information 2. From Symbol 3. To Symbol  \\\n",
       "0                              NaN            NaN          NaN   \n",
       "1  FX Intraday (60min) Time Series            EUR          USD   \n",
       "\n",
       "     4. Last Refreshed 5. Interval 6. Output Size 7. Time Zone  \n",
       "0                  NaN         NaN            NaN          NaN  \n",
       "1  2021-02-25 11:00:00       60min      Full size          UTC  "
      ]
     },
     "execution_count": 177,
     "metadata": {},
     "output_type": "execute_result"
    }
   ],
   "source": [
    "df[df.columns[-7:]]"
   ]
  },
  {
   "cell_type": "markdown",
   "id": "varying-italic",
   "metadata": {},
   "source": [
    "These columns represent the parameters that we passed with our query to fetch data about the currency pair. The data of our interest lies in the columns before these columns. So, I'll leave these columns as alone and select the rest of columns."
   ]
  },
  {
   "cell_type": "code",
   "execution_count": 179,
   "id": "statistical-fiber",
   "metadata": {},
   "outputs": [],
   "source": [
    "df_col = df.iloc[0, 0:-7]"
   ]
  },
  {
   "cell_type": "code",
   "execution_count": 181,
   "id": "subject-hotel",
   "metadata": {
    "scrolled": true,
    "tags": []
   },
   "outputs": [
    {
     "data": {
      "text/plain": [
       "2021-02-25 11:00:00    {'1. open': '1.2220', '2. high': '1.2231', '3....\n",
       "2021-02-25 10:00:00    {'1. open': '1.2208', '2. high': '1.2223', '3....\n",
       "2021-02-25 09:00:00    {'1. open': '1.2187', '2. high': '1.2208', '3....\n",
       "2021-02-25 08:00:00    {'1. open': '1.2181', '2. high': '1.2189', '3....\n",
       "2021-02-25 07:00:00    {'1. open': '1.2178', '2. high': '1.2182', '3....\n",
       "                                             ...                        \n",
       "2020-12-31 07:00:00    {'1. open': '1.2289', '2. high': '1.2293', '3....\n",
       "2020-12-31 06:00:00    {'1. open': '1.2286', '2. high': '1.2297', '3....\n",
       "2020-12-31 05:00:00    {'1. open': '1.2291', '2. high': '1.2291', '3....\n",
       "2020-12-31 04:00:00    {'1. open': '1.2289', '2. high': '1.2294', '3....\n",
       "2020-12-31 03:00:00    {'1. open': '1.2306', '2. high': '1.2309', '3....\n",
       "Name: 0, Length: 961, dtype: object"
      ]
     },
     "execution_count": 181,
     "metadata": {},
     "output_type": "execute_result"
    }
   ],
   "source": [
    "df_col"
   ]
  },
  {
   "cell_type": "markdown",
   "id": "differential-hometown",
   "metadata": {},
   "source": [
    "Here the data looks somewhat legible. But, still not as beautiful. Let's decorate it and make it quite legible."
   ]
  },
  {
   "cell_type": "code",
   "execution_count": 186,
   "id": "fallen-western",
   "metadata": {},
   "outputs": [],
   "source": [
    "json_data = df_col.to_json('json_data.json')"
   ]
  },
  {
   "cell_type": "markdown",
   "id": "abstract-compact",
   "metadata": {},
   "source": [
    "I converted it into a JSON file to store it locally. Now, let's have a look at this data."
   ]
  },
  {
   "cell_type": "markdown",
   "id": "threatened-schema",
   "metadata": {},
   "source": [
    "First, read this file from the directory."
   ]
  },
  {
   "cell_type": "code",
   "execution_count": 188,
   "id": "latter-wrapping",
   "metadata": {},
   "outputs": [],
   "source": [
    "record = pd.read_json('json_data.json')"
   ]
  },
  {
   "cell_type": "code",
   "execution_count": 189,
   "id": "outdoor-wallace",
   "metadata": {},
   "outputs": [
    {
     "data": {
      "text/html": [
       "<div>\n",
       "<style scoped>\n",
       "    .dataframe tbody tr th:only-of-type {\n",
       "        vertical-align: middle;\n",
       "    }\n",
       "\n",
       "    .dataframe tbody tr th {\n",
       "        vertical-align: top;\n",
       "    }\n",
       "\n",
       "    .dataframe thead th {\n",
       "        text-align: right;\n",
       "    }\n",
       "</style>\n",
       "<table border=\"1\" class=\"dataframe\">\n",
       "  <thead>\n",
       "    <tr style=\"text-align: right;\">\n",
       "      <th></th>\n",
       "      <th>2021-02-25 11:00:00</th>\n",
       "      <th>2021-02-25 10:00:00</th>\n",
       "      <th>2021-02-25 09:00:00</th>\n",
       "      <th>2021-02-25 08:00:00</th>\n",
       "      <th>2021-02-25 07:00:00</th>\n",
       "      <th>2021-02-25 06:00:00</th>\n",
       "      <th>2021-02-25 05:00:00</th>\n",
       "      <th>2021-02-25 04:00:00</th>\n",
       "      <th>2021-02-25 03:00:00</th>\n",
       "      <th>2021-02-25 02:00:00</th>\n",
       "      <th>...</th>\n",
       "      <th>2020-12-31 12:00:00</th>\n",
       "      <th>2020-12-31 11:00:00</th>\n",
       "      <th>2020-12-31 10:00:00</th>\n",
       "      <th>2020-12-31 09:00:00</th>\n",
       "      <th>2020-12-31 08:00:00</th>\n",
       "      <th>2020-12-31 07:00:00</th>\n",
       "      <th>2020-12-31 06:00:00</th>\n",
       "      <th>2020-12-31 05:00:00</th>\n",
       "      <th>2020-12-31 04:00:00</th>\n",
       "      <th>2020-12-31 03:00:00</th>\n",
       "    </tr>\n",
       "  </thead>\n",
       "  <tbody>\n",
       "    <tr>\n",
       "      <th>1. open</th>\n",
       "      <td>1.2220</td>\n",
       "      <td>1.2208</td>\n",
       "      <td>1.2187</td>\n",
       "      <td>1.2181</td>\n",
       "      <td>1.2178</td>\n",
       "      <td>1.2176</td>\n",
       "      <td>1.2169</td>\n",
       "      <td>1.2159</td>\n",
       "      <td>1.2157</td>\n",
       "      <td>1.2162</td>\n",
       "      <td>...</td>\n",
       "      <td>1.2279</td>\n",
       "      <td>1.2279</td>\n",
       "      <td>1.2301</td>\n",
       "      <td>1.2296</td>\n",
       "      <td>1.2291</td>\n",
       "      <td>1.2289</td>\n",
       "      <td>1.2286</td>\n",
       "      <td>1.2291</td>\n",
       "      <td>1.2289</td>\n",
       "      <td>1.2306</td>\n",
       "    </tr>\n",
       "    <tr>\n",
       "      <th>2. high</th>\n",
       "      <td>1.2231</td>\n",
       "      <td>1.2223</td>\n",
       "      <td>1.2208</td>\n",
       "      <td>1.2189</td>\n",
       "      <td>1.2182</td>\n",
       "      <td>1.2183</td>\n",
       "      <td>1.2177</td>\n",
       "      <td>1.2170</td>\n",
       "      <td>1.2163</td>\n",
       "      <td>1.2165</td>\n",
       "      <td>...</td>\n",
       "      <td>1.2288</td>\n",
       "      <td>1.2288</td>\n",
       "      <td>1.2301</td>\n",
       "      <td>1.2304</td>\n",
       "      <td>1.2303</td>\n",
       "      <td>1.2293</td>\n",
       "      <td>1.2297</td>\n",
       "      <td>1.2291</td>\n",
       "      <td>1.2294</td>\n",
       "      <td>1.2309</td>\n",
       "    </tr>\n",
       "    <tr>\n",
       "      <th>3. low</th>\n",
       "      <td>1.2216</td>\n",
       "      <td>1.2202</td>\n",
       "      <td>1.2185</td>\n",
       "      <td>1.2166</td>\n",
       "      <td>1.2172</td>\n",
       "      <td>1.2174</td>\n",
       "      <td>1.2165</td>\n",
       "      <td>1.2158</td>\n",
       "      <td>1.2154</td>\n",
       "      <td>1.2155</td>\n",
       "      <td>...</td>\n",
       "      <td>1.2265</td>\n",
       "      <td>1.2273</td>\n",
       "      <td>1.2275</td>\n",
       "      <td>1.2285</td>\n",
       "      <td>1.2289</td>\n",
       "      <td>1.2284</td>\n",
       "      <td>1.2284</td>\n",
       "      <td>1.2284</td>\n",
       "      <td>1.2285</td>\n",
       "      <td>1.2284</td>\n",
       "    </tr>\n",
       "    <tr>\n",
       "      <th>4. close</th>\n",
       "      <td>1.2228</td>\n",
       "      <td>1.2220</td>\n",
       "      <td>1.2206</td>\n",
       "      <td>1.2186</td>\n",
       "      <td>1.2180</td>\n",
       "      <td>1.2178</td>\n",
       "      <td>1.2176</td>\n",
       "      <td>1.2168</td>\n",
       "      <td>1.2160</td>\n",
       "      <td>1.2157</td>\n",
       "      <td>...</td>\n",
       "      <td>1.2275</td>\n",
       "      <td>1.2280</td>\n",
       "      <td>1.2278</td>\n",
       "      <td>1.2301</td>\n",
       "      <td>1.2296</td>\n",
       "      <td>1.2291</td>\n",
       "      <td>1.2289</td>\n",
       "      <td>1.2287</td>\n",
       "      <td>1.2290</td>\n",
       "      <td>1.2288</td>\n",
       "    </tr>\n",
       "  </tbody>\n",
       "</table>\n",
       "<p>4 rows × 961 columns</p>\n",
       "</div>"
      ],
      "text/plain": [
       "          2021-02-25 11:00:00  2021-02-25 10:00:00  2021-02-25 09:00:00  \\\n",
       "1. open                1.2220               1.2208               1.2187   \n",
       "2. high                1.2231               1.2223               1.2208   \n",
       "3. low                 1.2216               1.2202               1.2185   \n",
       "4. close               1.2228               1.2220               1.2206   \n",
       "\n",
       "          2021-02-25 08:00:00  2021-02-25 07:00:00  2021-02-25 06:00:00  \\\n",
       "1. open                1.2181               1.2178               1.2176   \n",
       "2. high                1.2189               1.2182               1.2183   \n",
       "3. low                 1.2166               1.2172               1.2174   \n",
       "4. close               1.2186               1.2180               1.2178   \n",
       "\n",
       "          2021-02-25 05:00:00  2021-02-25 04:00:00  2021-02-25 03:00:00  \\\n",
       "1. open                1.2169               1.2159               1.2157   \n",
       "2. high                1.2177               1.2170               1.2163   \n",
       "3. low                 1.2165               1.2158               1.2154   \n",
       "4. close               1.2176               1.2168               1.2160   \n",
       "\n",
       "          2021-02-25 02:00:00  ...  2020-12-31 12:00:00  2020-12-31 11:00:00  \\\n",
       "1. open                1.2162  ...               1.2279               1.2279   \n",
       "2. high                1.2165  ...               1.2288               1.2288   \n",
       "3. low                 1.2155  ...               1.2265               1.2273   \n",
       "4. close               1.2157  ...               1.2275               1.2280   \n",
       "\n",
       "          2020-12-31 10:00:00  2020-12-31 09:00:00  2020-12-31 08:00:00  \\\n",
       "1. open                1.2301               1.2296               1.2291   \n",
       "2. high                1.2301               1.2304               1.2303   \n",
       "3. low                 1.2275               1.2285               1.2289   \n",
       "4. close               1.2278               1.2301               1.2296   \n",
       "\n",
       "          2020-12-31 07:00:00  2020-12-31 06:00:00  2020-12-31 05:00:00  \\\n",
       "1. open                1.2289               1.2286               1.2291   \n",
       "2. high                1.2293               1.2297               1.2291   \n",
       "3. low                 1.2284               1.2284               1.2284   \n",
       "4. close               1.2291               1.2289               1.2287   \n",
       "\n",
       "          2020-12-31 04:00:00  2020-12-31 03:00:00  \n",
       "1. open                1.2289               1.2306  \n",
       "2. high                1.2294               1.2309  \n",
       "3. low                 1.2285               1.2284  \n",
       "4. close               1.2290               1.2288  \n",
       "\n",
       "[4 rows x 961 columns]"
      ]
     },
     "execution_count": 189,
     "metadata": {},
     "output_type": "execute_result"
    }
   ],
   "source": [
    "record"
   ]
  },
  {
   "cell_type": "markdown",
   "id": "stuck-mixture",
   "metadata": {},
   "source": [
    "Eye-catching!"
   ]
  },
  {
   "cell_type": "markdown",
   "id": "later-apparatus",
   "metadata": {},
   "source": [
    "But, I want the dates as indexes for our price values. And for that, I'll use transpose function of Pandas."
   ]
  },
  {
   "cell_type": "code",
   "execution_count": 210,
   "id": "exempt-dance",
   "metadata": {},
   "outputs": [],
   "source": [
    "intraday_EURUSD = pd.DataFrame.transpose(record)"
   ]
  },
  {
   "cell_type": "code",
   "execution_count": 219,
   "id": "detected-courage",
   "metadata": {},
   "outputs": [
    {
     "data": {
      "text/html": [
       "<div>\n",
       "<style scoped>\n",
       "    .dataframe tbody tr th:only-of-type {\n",
       "        vertical-align: middle;\n",
       "    }\n",
       "\n",
       "    .dataframe tbody tr th {\n",
       "        vertical-align: top;\n",
       "    }\n",
       "\n",
       "    .dataframe thead th {\n",
       "        text-align: right;\n",
       "    }\n",
       "</style>\n",
       "<table border=\"1\" class=\"dataframe\">\n",
       "  <thead>\n",
       "    <tr style=\"text-align: right;\">\n",
       "      <th></th>\n",
       "      <th>1. open</th>\n",
       "      <th>2. high</th>\n",
       "      <th>3. low</th>\n",
       "      <th>4. close</th>\n",
       "    </tr>\n",
       "  </thead>\n",
       "  <tbody>\n",
       "    <tr>\n",
       "      <th>2021-02-25 11:00:00</th>\n",
       "      <td>1.2220</td>\n",
       "      <td>1.2231</td>\n",
       "      <td>1.2216</td>\n",
       "      <td>1.2228</td>\n",
       "    </tr>\n",
       "    <tr>\n",
       "      <th>2021-02-25 10:00:00</th>\n",
       "      <td>1.2208</td>\n",
       "      <td>1.2223</td>\n",
       "      <td>1.2202</td>\n",
       "      <td>1.2220</td>\n",
       "    </tr>\n",
       "    <tr>\n",
       "      <th>2021-02-25 09:00:00</th>\n",
       "      <td>1.2187</td>\n",
       "      <td>1.2208</td>\n",
       "      <td>1.2185</td>\n",
       "      <td>1.2206</td>\n",
       "    </tr>\n",
       "    <tr>\n",
       "      <th>2021-02-25 08:00:00</th>\n",
       "      <td>1.2181</td>\n",
       "      <td>1.2189</td>\n",
       "      <td>1.2166</td>\n",
       "      <td>1.2186</td>\n",
       "    </tr>\n",
       "    <tr>\n",
       "      <th>2021-02-25 07:00:00</th>\n",
       "      <td>1.2178</td>\n",
       "      <td>1.2182</td>\n",
       "      <td>1.2172</td>\n",
       "      <td>1.2180</td>\n",
       "    </tr>\n",
       "  </tbody>\n",
       "</table>\n",
       "</div>"
      ],
      "text/plain": [
       "                     1. open  2. high  3. low  4. close\n",
       "2021-02-25 11:00:00   1.2220   1.2231  1.2216    1.2228\n",
       "2021-02-25 10:00:00   1.2208   1.2223  1.2202    1.2220\n",
       "2021-02-25 09:00:00   1.2187   1.2208  1.2185    1.2206\n",
       "2021-02-25 08:00:00   1.2181   1.2189  1.2166    1.2186\n",
       "2021-02-25 07:00:00   1.2178   1.2182  1.2172    1.2180"
      ]
     },
     "execution_count": 219,
     "metadata": {},
     "output_type": "execute_result"
    }
   ],
   "source": [
    "intraday_EURUSD.head()"
   ]
  },
  {
   "cell_type": "markdown",
   "id": "enclosed-intention",
   "metadata": {},
   "source": [
    "It looks much better."
   ]
  },
  {
   "cell_type": "code",
   "execution_count": 220,
   "id": "criminal-cleanup",
   "metadata": {},
   "outputs": [
    {
     "data": {
      "text/html": [
       "<div>\n",
       "<style scoped>\n",
       "    .dataframe tbody tr th:only-of-type {\n",
       "        vertical-align: middle;\n",
       "    }\n",
       "\n",
       "    .dataframe tbody tr th {\n",
       "        vertical-align: top;\n",
       "    }\n",
       "\n",
       "    .dataframe thead th {\n",
       "        text-align: right;\n",
       "    }\n",
       "</style>\n",
       "<table border=\"1\" class=\"dataframe\">\n",
       "  <thead>\n",
       "    <tr style=\"text-align: right;\">\n",
       "      <th></th>\n",
       "      <th>index</th>\n",
       "      <th>1. open</th>\n",
       "      <th>2. high</th>\n",
       "      <th>3. low</th>\n",
       "      <th>4. close</th>\n",
       "    </tr>\n",
       "  </thead>\n",
       "  <tbody>\n",
       "    <tr>\n",
       "      <th>0</th>\n",
       "      <td>2021-02-25 11:00:00</td>\n",
       "      <td>1.2220</td>\n",
       "      <td>1.2231</td>\n",
       "      <td>1.2216</td>\n",
       "      <td>1.2228</td>\n",
       "    </tr>\n",
       "    <tr>\n",
       "      <th>1</th>\n",
       "      <td>2021-02-25 10:00:00</td>\n",
       "      <td>1.2208</td>\n",
       "      <td>1.2223</td>\n",
       "      <td>1.2202</td>\n",
       "      <td>1.2220</td>\n",
       "    </tr>\n",
       "    <tr>\n",
       "      <th>2</th>\n",
       "      <td>2021-02-25 09:00:00</td>\n",
       "      <td>1.2187</td>\n",
       "      <td>1.2208</td>\n",
       "      <td>1.2185</td>\n",
       "      <td>1.2206</td>\n",
       "    </tr>\n",
       "    <tr>\n",
       "      <th>3</th>\n",
       "      <td>2021-02-25 08:00:00</td>\n",
       "      <td>1.2181</td>\n",
       "      <td>1.2189</td>\n",
       "      <td>1.2166</td>\n",
       "      <td>1.2186</td>\n",
       "    </tr>\n",
       "    <tr>\n",
       "      <th>4</th>\n",
       "      <td>2021-02-25 07:00:00</td>\n",
       "      <td>1.2178</td>\n",
       "      <td>1.2182</td>\n",
       "      <td>1.2172</td>\n",
       "      <td>1.2180</td>\n",
       "    </tr>\n",
       "    <tr>\n",
       "      <th>...</th>\n",
       "      <td>...</td>\n",
       "      <td>...</td>\n",
       "      <td>...</td>\n",
       "      <td>...</td>\n",
       "      <td>...</td>\n",
       "    </tr>\n",
       "    <tr>\n",
       "      <th>956</th>\n",
       "      <td>2020-12-31 07:00:00</td>\n",
       "      <td>1.2289</td>\n",
       "      <td>1.2293</td>\n",
       "      <td>1.2284</td>\n",
       "      <td>1.2291</td>\n",
       "    </tr>\n",
       "    <tr>\n",
       "      <th>957</th>\n",
       "      <td>2020-12-31 06:00:00</td>\n",
       "      <td>1.2286</td>\n",
       "      <td>1.2297</td>\n",
       "      <td>1.2284</td>\n",
       "      <td>1.2289</td>\n",
       "    </tr>\n",
       "    <tr>\n",
       "      <th>958</th>\n",
       "      <td>2020-12-31 05:00:00</td>\n",
       "      <td>1.2291</td>\n",
       "      <td>1.2291</td>\n",
       "      <td>1.2284</td>\n",
       "      <td>1.2287</td>\n",
       "    </tr>\n",
       "    <tr>\n",
       "      <th>959</th>\n",
       "      <td>2020-12-31 04:00:00</td>\n",
       "      <td>1.2289</td>\n",
       "      <td>1.2294</td>\n",
       "      <td>1.2285</td>\n",
       "      <td>1.2290</td>\n",
       "    </tr>\n",
       "    <tr>\n",
       "      <th>960</th>\n",
       "      <td>2020-12-31 03:00:00</td>\n",
       "      <td>1.2306</td>\n",
       "      <td>1.2309</td>\n",
       "      <td>1.2284</td>\n",
       "      <td>1.2288</td>\n",
       "    </tr>\n",
       "  </tbody>\n",
       "</table>\n",
       "<p>961 rows × 5 columns</p>\n",
       "</div>"
      ],
      "text/plain": [
       "                  index  1. open  2. high  3. low  4. close\n",
       "0   2021-02-25 11:00:00   1.2220   1.2231  1.2216    1.2228\n",
       "1   2021-02-25 10:00:00   1.2208   1.2223  1.2202    1.2220\n",
       "2   2021-02-25 09:00:00   1.2187   1.2208  1.2185    1.2206\n",
       "3   2021-02-25 08:00:00   1.2181   1.2189  1.2166    1.2186\n",
       "4   2021-02-25 07:00:00   1.2178   1.2182  1.2172    1.2180\n",
       "..                  ...      ...      ...     ...       ...\n",
       "956 2020-12-31 07:00:00   1.2289   1.2293  1.2284    1.2291\n",
       "957 2020-12-31 06:00:00   1.2286   1.2297  1.2284    1.2289\n",
       "958 2020-12-31 05:00:00   1.2291   1.2291  1.2284    1.2287\n",
       "959 2020-12-31 04:00:00   1.2289   1.2294  1.2285    1.2290\n",
       "960 2020-12-31 03:00:00   1.2306   1.2309  1.2284    1.2288\n",
       "\n",
       "[961 rows x 5 columns]"
      ]
     },
     "execution_count": 220,
     "metadata": {},
     "output_type": "execute_result"
    }
   ],
   "source": [
    "intraday_EURUSD.reset_index()"
   ]
  },
  {
   "cell_type": "markdown",
   "id": "gross-boston",
   "metadata": {},
   "source": [
    "Let's plot this."
   ]
  },
  {
   "cell_type": "code",
   "execution_count": 214,
   "id": "severe-millennium",
   "metadata": {
    "scrolled": true,
    "tags": []
   },
   "outputs": [
    {
     "name": "stdout",
     "output_type": "stream",
     "text": [
      "Requirement already satisfied: matplotlib in c:\\users\\irfan\\miniconda3\\lib\\site-packages (3.3.4)\n",
      "Requirement already satisfied: python-dateutil>=2.1 in c:\\users\\irfan\\miniconda3\\lib\\site-packages (from matplotlib) (2.8.1)\n",
      "Requirement already satisfied: pillow>=6.2.0 in c:\\users\\irfan\\miniconda3\\lib\\site-packages (from matplotlib) (8.1.0)\n",
      "Requirement already satisfied: numpy>=1.15 in c:\\users\\irfan\\miniconda3\\lib\\site-packages (from matplotlib) (1.20.1)\n",
      "Requirement already satisfied: cycler>=0.10 in c:\\users\\irfan\\miniconda3\\lib\\site-packages (from matplotlib) (0.10.0)\n",
      "Requirement already satisfied: pyparsing!=2.0.4,!=2.1.2,!=2.1.6,>=2.0.3 in c:\\users\\irfan\\miniconda3\\lib\\site-packages (from matplotlib) (2.4.7)\n",
      "Requirement already satisfied: kiwisolver>=1.0.1 in c:\\users\\irfan\\miniconda3\\lib\\site-packages (from matplotlib) (1.3.1)\n",
      "Requirement already satisfied: six>=1.5 in c:\\users\\irfan\\miniconda3\\lib\\site-packages (from python-dateutil>=2.1->matplotlib) (1.14.0)\n",
      "Note: you may need to restart the kernel to use updated packages.\n"
     ]
    }
   ],
   "source": [
    "pip install matplotlib  "
   ]
  },
  {
   "cell_type": "markdown",
   "id": "tired-delicious",
   "metadata": {},
   "source": [
    "I have just installed the matplotlib library for plotting the graph. Let's plot the forex values."
   ]
  },
  {
   "cell_type": "code",
   "execution_count": 217,
   "id": "exceptional-barrel",
   "metadata": {},
   "outputs": [],
   "source": [
    "import matplotlib.pyplot as plt     #the plotting library"
   ]
  },
  {
   "cell_type": "code",
   "execution_count": 231,
   "id": "outside-archives",
   "metadata": {},
   "outputs": [
    {
     "data": {
      "image/png": "[encoded data removed]",
      "text/plain": [
       "<Figure size 1080x540 with 1 Axes>"
      ]
     },
     "metadata": {
      "needs_background": "light"
     },
     "output_type": "display_data"
    }
   ],
   "source": [
    "plt.subplots(figsize=(15, 7.5))\n",
    "intraday_EURUSD['4. close'].plot()\n",
    "plt.title('Intraday EURUSD (60 min)')\n",
    "plt.show()"
   ]
  },
  {
   "cell_type": "markdown",
   "id": "postal-canyon",
   "metadata": {},
   "source": [
    "Beautiful!"
   ]
  },
  {
   "cell_type": "markdown",
   "id": "increased-synthetic",
   "metadata": {},
   "source": [
    "# With this, good bey. "
   ]
  },
  {
   "cell_type": "markdown",
   "id": "featured-confidentiality",
   "metadata": {},
   "source": [
    "# If you enjoyed, make sure to join me."
   ]
  }
 ],
 "metadata": {
  "kernelspec": {
   "display_name": "Python 3",
   "language": "python",
   "name": "python3"
  },
  "language_info": {
   "codemirror_mode": {
    "name": "ipython",
    "version": 3
   },
   "file_extension": ".py",
   "mimetype": "text/x-python",
   "name": "python",
   "nbconvert_exporter": "python",
   "pygments_lexer": "ipython3",
   "version": "3.8.3"
  }
 },
 "nbformat": 4,
 "nbformat_minor": 5
}
